{
 "cells": [
  {
   "cell_type": "markdown",
   "metadata": {},
   "source": [
    "## Part 2 of a 3-part assignment for Week 3:  on Toronto Neighborhood\n",
    "- ### Dataframe with latitude and longitude coordinates for the neighorhood from selected postal codes\n",
    "- #### 1. Could not succeed in getting response from the package geocoder.\n",
    "- #### 2. Accessed using pd.read_csv file\n",
    "- #### 3. Used the codes and information on the sorted dataframe of the Part 1. Thus Notebook cells have been retained.\n",
    "- #### 4. First few cells are same as in Part 1 of the assignment."
   ]
  },
  {
   "cell_type": "markdown",
   "metadata": {},
   "source": [
    "#### Import libraries and install Beautifulsoup4"
   ]
  },
  {
   "cell_type": "code",
   "execution_count": 1,
   "metadata": {
    "collapsed": true,
    "jupyter": {
     "outputs_hidden": true
    }
   },
   "outputs": [
    {
     "name": "stdout",
     "output_type": "stream",
     "text": [
      "Requirement already satisfied: beautifulsoup4 in /home/jupyterlab/conda/envs/python/lib/python3.6/site-packages (4.8.2)\n",
      "Requirement already satisfied: soupsieve>=1.2 in /home/jupyterlab/conda/envs/python/lib/python3.6/site-packages (from beautifulsoup4) (1.9.5)\n",
      "Requirement already satisfied: lxml in /home/jupyterlab/conda/envs/python/lib/python3.6/site-packages (4.4.2)\n",
      "Requirement already satisfied: html5lib in /home/jupyterlab/conda/envs/python/lib/python3.6/site-packages (0.9999999)\n",
      "Requirement already satisfied: six in /home/jupyterlab/conda/envs/python/lib/python3.6/site-packages (from html5lib) (1.13.0)\n",
      "Requirement already satisfied: requests in /home/jupyterlab/conda/envs/python/lib/python3.6/site-packages (2.22.0)\n",
      "Requirement already satisfied: urllib3!=1.25.0,!=1.25.1,<1.26,>=1.21.1 in /home/jupyterlab/conda/envs/python/lib/python3.6/site-packages (from requests) (1.25.7)\n",
      "Requirement already satisfied: chardet<3.1.0,>=3.0.2 in /home/jupyterlab/conda/envs/python/lib/python3.6/site-packages (from requests) (3.0.4)\n",
      "Requirement already satisfied: idna<2.9,>=2.5 in /home/jupyterlab/conda/envs/python/lib/python3.6/site-packages (from requests) (2.8)\n",
      "Requirement already satisfied: certifi>=2017.4.17 in /home/jupyterlab/conda/envs/python/lib/python3.6/site-packages (from requests) (2019.9.11)\n"
     ]
    }
   ],
   "source": [
    "import pandas as pd\n",
    "import sys\n",
    "sys.path.append('C:\\\\Python27\\\\Scripts\\\\pip.exe')\n",
    "!pip install beautifulsoup4\n",
    "\n",
    "!pip install lxml\n",
    "!pip install html5lib\n",
    "!pip install requests\n",
    "\n",
    "from bs4 import BeautifulSoup\n",
    "import requests\n",
    "import urllib.request\n",
    "from lxml import html"
   ]
  },
  {
   "cell_type": "markdown",
   "metadata": {},
   "source": [
    "#### Scrape the web page containing Canadian postal codes, boroughs and neighborhoods"
   ]
  },
  {
   "cell_type": "code",
   "execution_count": 2,
   "metadata": {},
   "outputs": [],
   "source": [
    "# Scrape the page with BeautifulSoup\n",
    "\n",
    "quote_page='https://en.wikipedia.org/wiki/List_of_postal_codes_of_Canada:_M'\n",
    "\n",
    "page = requests.get(quote_page)\n",
    "#print(page.status_code)\n",
    "\n",
    "soup= BeautifulSoup(page.text, \"html.parser\")\n",
    "\n",
    "right_table=soup.find('table', {\"class\" : 'wikitable sortable'})\n",
    "#print(right_table)\n",
    "\n",
    "# Transfer to a DataFrame \n",
    "df = pd.read_html(str(right_table))[0]\n",
    "df_all = pd.DataFrame(df)\n",
    "#print(df_all.shape)\n",
    "#df_all.head(5)"
   ]
  },
  {
   "cell_type": "markdown",
   "metadata": {},
   "source": [
    "#### Get the dataframe after filtering out \"Not assigned\" boroughs and neighborhoods etc., restricting in the postal codes selected, and concatenating the neighborhoods under the same borough/postal code  "
   ]
  },
  {
   "cell_type": "code",
   "execution_count": 3,
   "metadata": {},
   "outputs": [
    {
     "name": "stdout",
     "output_type": "stream",
     "text": [
      "Size for filtered data table:  (210, 3)\n"
     ]
    }
   ],
   "source": [
    "# Data shaping \n",
    "\n",
    "def concatenate_list_data(list):\n",
    "    result= ''\n",
    "    for element in list:\n",
    "        result += str(element) +\",\"\n",
    "    return result[:-1]\n",
    "#print(concatenate_list_data(['a','c']))\n",
    "\n",
    "df.drop(  df[ df['Borough']=='Not assigned'].index, inplace=True)\n",
    "restr = df['Neighborhood']=='Not assigned'\n",
    "df.replace(to_replace=list(df[restr]['Neighborhood']), \\\n",
    "                 value= list(df[restr]['Borough']), inplace=True)\n",
    "df_filtered = df\n",
    "print(\"Size for filtered data table: \", df_filtered.shape)\n",
    "\n",
    "post_lst=['M5G','M2H', 'M4B','M1J','M4G','M4M', 'M1R','M9V','M9L','M5V','M1B','M5A']\n",
    "\n",
    "# print(df[df['Postcode'].isin(post_lst)])\n",
    "\n",
    "\n",
    "newdf=pd.DataFrame(columns=['Postcode','Borough','Neighborhood'])\n",
    "\n",
    "for pst in post_lst:\n",
    "    restr= df['Postcode']==pst\n",
    "    neigh=df[ restr]['Neighborhood'].to_list()\n",
    "    neigh=concatenate_list_data(neigh)\n",
    "    boro=df[restr]['Borough'].to_list()[0]\n",
    "    addrows={'Postcode':pst,'Borough':boro,'Neighborhood':neigh}\n",
    "    newdf=newdf.append(addrows, ignore_index=True)\n",
    "\n",
    "#print(\"Size for the selected 12 postalcode data: \", newdf.shape)\n",
    "#newdf"
   ]
  },
  {
   "cell_type": "markdown",
   "metadata": {},
   "source": [
    "#### Retrival of Longitude and Latitude for the postal code areas\n"
   ]
  },
  {
   "cell_type": "code",
   "execution_count": 4,
   "metadata": {},
   "outputs": [],
   "source": [
    "# This part did not work \n",
    "\n",
    "# import geocoder # import geocoder\n",
    "# postal_code = 'M5A'\n",
    "# initialize your variable to None\n",
    "# lat_lng_coords = None\n",
    "# loop until you get the coordinates\n",
    "# while(lat_lng_coords is None):\n",
    "#  g = geocoder.google('{}, Toronto, Ontario'.format(postal_code))\n",
    "#  lat_lng_coords = g.latlng\n",
    "# latitude = lat_lng_coords[0]\n",
    "# longitude = lat_lng_coords[1]\n"
   ]
  },
  {
   "cell_type": "code",
   "execution_count": 5,
   "metadata": {},
   "outputs": [
    {
     "name": "stderr",
     "output_type": "stream",
     "text": [
      "/home/jupyterlab/conda/envs/python/lib/python3.6/site-packages/ipykernel_launcher.py:10: SettingWithCopyWarning: \n",
      "A value is trying to be set on a copy of a slice from a DataFrame.\n",
      "Try using .loc[row_indexer,col_indexer] = value instead\n",
      "\n",
      "See the caveats in the documentation: http://pandas.pydata.org/pandas-docs/stable/user_guide/indexing.html#returning-a-view-versus-a-copy\n",
      "  # Remove the CWD from sys.path while we load stuff.\n"
     ]
    },
    {
     "data": {
      "text/html": [
       "<div>\n",
       "<style scoped>\n",
       "    .dataframe tbody tr th:only-of-type {\n",
       "        vertical-align: middle;\n",
       "    }\n",
       "\n",
       "    .dataframe tbody tr th {\n",
       "        vertical-align: top;\n",
       "    }\n",
       "\n",
       "    .dataframe thead th {\n",
       "        text-align: right;\n",
       "    }\n",
       "</style>\n",
       "<table border=\"1\" class=\"dataframe\">\n",
       "  <thead>\n",
       "    <tr style=\"text-align: right;\">\n",
       "      <th></th>\n",
       "      <th>Postal Code</th>\n",
       "      <th>Borough</th>\n",
       "      <th>Neighborhood</th>\n",
       "      <th>Latitude</th>\n",
       "      <th>Longitude</th>\n",
       "    </tr>\n",
       "  </thead>\n",
       "  <tbody>\n",
       "    <tr>\n",
       "      <th>0</th>\n",
       "      <td>M5G</td>\n",
       "      <td>Downtown Toronto</td>\n",
       "      <td>Central Bay Street</td>\n",
       "      <td>43.657952</td>\n",
       "      <td>-79.387383</td>\n",
       "    </tr>\n",
       "    <tr>\n",
       "      <th>1</th>\n",
       "      <td>M2H</td>\n",
       "      <td>North York</td>\n",
       "      <td>Hillcrest Village</td>\n",
       "      <td>43.803762</td>\n",
       "      <td>-79.363452</td>\n",
       "    </tr>\n",
       "    <tr>\n",
       "      <th>2</th>\n",
       "      <td>M4B</td>\n",
       "      <td>East York</td>\n",
       "      <td>Woodbine Gardens,Parkview Hill</td>\n",
       "      <td>43.706397</td>\n",
       "      <td>-79.309937</td>\n",
       "    </tr>\n",
       "    <tr>\n",
       "      <th>3</th>\n",
       "      <td>M1J</td>\n",
       "      <td>Scarborough</td>\n",
       "      <td>Scarborough Village</td>\n",
       "      <td>43.744734</td>\n",
       "      <td>-79.239476</td>\n",
       "    </tr>\n",
       "    <tr>\n",
       "      <th>4</th>\n",
       "      <td>M4G</td>\n",
       "      <td>East York</td>\n",
       "      <td>Leaside</td>\n",
       "      <td>43.709060</td>\n",
       "      <td>-79.363452</td>\n",
       "    </tr>\n",
       "    <tr>\n",
       "      <th>5</th>\n",
       "      <td>M4M</td>\n",
       "      <td>East Toronto</td>\n",
       "      <td>Studio District</td>\n",
       "      <td>43.659526</td>\n",
       "      <td>-79.340923</td>\n",
       "    </tr>\n",
       "    <tr>\n",
       "      <th>6</th>\n",
       "      <td>M1R</td>\n",
       "      <td>Scarborough</td>\n",
       "      <td>Maryvale,Wexford</td>\n",
       "      <td>43.750072</td>\n",
       "      <td>-79.295849</td>\n",
       "    </tr>\n",
       "    <tr>\n",
       "      <th>7</th>\n",
       "      <td>M9V</td>\n",
       "      <td>Etobicoke</td>\n",
       "      <td>Albion Gardens,Beaumond Heights,Humbergate,Jam...</td>\n",
       "      <td>43.739416</td>\n",
       "      <td>-79.588437</td>\n",
       "    </tr>\n",
       "    <tr>\n",
       "      <th>8</th>\n",
       "      <td>M9L</td>\n",
       "      <td>North York</td>\n",
       "      <td>Humber Summit</td>\n",
       "      <td>43.756303</td>\n",
       "      <td>-79.565963</td>\n",
       "    </tr>\n",
       "    <tr>\n",
       "      <th>9</th>\n",
       "      <td>M5V</td>\n",
       "      <td>Downtown Toronto</td>\n",
       "      <td>CN Tower,Bathurst Quay,Island airport,Harbourf...</td>\n",
       "      <td>43.628947</td>\n",
       "      <td>-79.394420</td>\n",
       "    </tr>\n",
       "    <tr>\n",
       "      <th>10</th>\n",
       "      <td>M1B</td>\n",
       "      <td>Scarborough</td>\n",
       "      <td>Rouge,Malvern</td>\n",
       "      <td>43.806686</td>\n",
       "      <td>-79.194353</td>\n",
       "    </tr>\n",
       "    <tr>\n",
       "      <th>11</th>\n",
       "      <td>M5A</td>\n",
       "      <td>Downtown Toronto</td>\n",
       "      <td>Harbourfront</td>\n",
       "      <td>43.654260</td>\n",
       "      <td>-79.360636</td>\n",
       "    </tr>\n",
       "  </tbody>\n",
       "</table>\n",
       "</div>"
      ],
      "text/plain": [
       "   Postal Code           Borough  \\\n",
       "0          M5G  Downtown Toronto   \n",
       "1          M2H        North York   \n",
       "2          M4B         East York   \n",
       "3          M1J       Scarborough   \n",
       "4          M4G         East York   \n",
       "5          M4M      East Toronto   \n",
       "6          M1R       Scarborough   \n",
       "7          M9V         Etobicoke   \n",
       "8          M9L        North York   \n",
       "9          M5V  Downtown Toronto   \n",
       "10         M1B       Scarborough   \n",
       "11         M5A  Downtown Toronto   \n",
       "\n",
       "                                         Neighborhood   Latitude  Longitude  \n",
       "0                                  Central Bay Street  43.657952 -79.387383  \n",
       "1                                   Hillcrest Village  43.803762 -79.363452  \n",
       "2                      Woodbine Gardens,Parkview Hill  43.706397 -79.309937  \n",
       "3                                 Scarborough Village  43.744734 -79.239476  \n",
       "4                                             Leaside  43.709060 -79.363452  \n",
       "5                                     Studio District  43.659526 -79.340923  \n",
       "6                                    Maryvale,Wexford  43.750072 -79.295849  \n",
       "7   Albion Gardens,Beaumond Heights,Humbergate,Jam...  43.739416 -79.588437  \n",
       "8                                       Humber Summit  43.756303 -79.565963  \n",
       "9   CN Tower,Bathurst Quay,Island airport,Harbourf...  43.628947 -79.394420  \n",
       "10                                      Rouge,Malvern  43.806686 -79.194353  \n",
       "11                                       Harbourfront  43.654260 -79.360636  "
      ]
     },
     "execution_count": 5,
     "metadata": {},
     "output_type": "execute_result"
    }
   ],
   "source": [
    "# Part 2 \n",
    "path='http://cocl.us/Geospatial_data'\n",
    "df_geosp = pd.read_csv(path)\n",
    "df_geosp.head()    \n",
    "custom_list=list(newdf['Postcode'])\n",
    "df_geo1=df_geosp[df_geosp['Postal Code'].isin(custom_list)]\n",
    "\n",
    "#print(custom_list)\n",
    "#print(df_geo1)\n",
    "df_geo1['Postal Code']=pd.Categorical(df_geo1['Postal Code'], custom_list )\n",
    "df_geo2=df_geo1.sort_values('Postal Code').reset_index(drop=True)\n",
    "\n",
    "df_geo2[['Borough','Neighborhood']]=newdf[['Borough','Neighborhood']]\n",
    "df_geo2[['Postal Code','Borough','Neighborhood','Latitude', 'Longitude']]\n"
   ]
  },
  {
   "cell_type": "markdown",
   "metadata": {},
   "source": [
    "## Thanks\n",
    "## END of Part 2"
   ]
  }
 ],
 "metadata": {
  "kernelspec": {
   "display_name": "Python",
   "language": "python",
   "name": "conda-env-python-py"
  },
  "language_info": {
   "codemirror_mode": {
    "name": "ipython",
    "version": 3
   },
   "file_extension": ".py",
   "mimetype": "text/x-python",
   "name": "python",
   "nbconvert_exporter": "python",
   "pygments_lexer": "ipython3",
   "version": "3.6.7"
  },
  "widgets": {
   "state": {},
   "version": "1.1.2"
  }
 },
 "nbformat": 4,
 "nbformat_minor": 4
}
